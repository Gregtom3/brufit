{
 "cells": [
  {
   "cell_type": "markdown",
   "metadata": {},
   "source": [
    "# Generate a dataset for sPlot\n",
    "\n",
    "The dataset will contain signal events with a sinusiodal azimuthal dependence\n",
    "\n",
    "f(#phi) = 1 + 0.4 h P cos(2#phi) - 0.6 h P sin(2#phi)   --(1)\n",
    "where P is an event polarisation and h a polarisation state which will be incorporated into the fit PDF.\n",
    "\n",
    "The signal missing mass distribution Mmiss will be Gaussian with mean 5 and #sigma 0.7. It will have a range 0-10.\n",
    "\n",
    "Background will be generated with a 1:1 ratio with the signal events. It will have a flat azimuthal dependence and linear missing mass distribution.\n",
    "\n",
    "Generate data, signal + background :"
   ]
  },
  {
   "cell_type": "code",
   "execution_count": 1,
   "metadata": {},
   "outputs": [
    {
     "name": "stdout",
     "output_type": "stream",
     "text": [
      "Welcome to JupyROOT 6.16/00\n"
     ]
    }
   ],
   "source": [
    "import ROOT"
   ]
  },
  {
   "cell_type": "markdown",
   "metadata": {},
   "source": [
    "To generate the data we will just run a pre-existing ROOT macro\n",
    "The data consists of a discriminatory variable \n",
    "\n",
    "        Mmiss = Gaussian (Signal) Linear polynomial (Background)\n",
    "        \n",
    "Three variables we want to fit to extract \"physics\"\n",
    "\n",
    "        Phi\n",
    "        Pol = the degree of polairsation (=P in eqn)\n",
    "        PolState = polarisation state +-1 (=h in eqn)\n",
    "\n",
    "And 2 uncorrelated observables \n",
    "\n",
    "        M1 = Sum 2 Gaussian (Signal) Linear (Background)\n",
    "        M2 = Gaussian + Linear (Signal) Linear (Background)\n",
    "        \n",
    "An additional variable for splitting into bins for seperate fits\n",
    "\n",
    "        Eg = Uniform (Signal and Background)\n",
    "        \n",
    "An event ID branch to allow synchrosing weights with data sets\n",
    "\n",
    "        fgID = incremented by 1 for each event \n",
    "        \n",
    "        \n",
    "A Signal flag to allow plotting of true signal and background\n",
    "\n",
    "        Sig = 1 (Signal) -1 (Background)"
   ]
  },
  {
   "cell_type": "code",
   "execution_count": 2,
   "metadata": {},
   "outputs": [
    {
     "data": {
      "text/plain": [
       "0L"
      ]
     },
     "execution_count": 2,
     "metadata": {},
     "output_type": "execute_result"
    }
   ],
   "source": [
    "ROOT.gROOT.ProcessLine(\".x Model2.C( \\\"Data.root\\\",1 )\")"
   ]
  },
  {
   "cell_type": "markdown",
   "metadata": {},
   "source": [
    "We also mimic an experiment by producing signal only simulated data. This has several uses. First it can be used as a line shape for an sPlot of missing mass, second it can be used to calculated the normalisation integral in the fit of equation (1), third it could be used to generate toy data for systematic studies of the fit."
   ]
  },
  {
   "cell_type": "code",
   "execution_count": 3,
   "metadata": {},
   "outputs": [
    {
     "data": {
      "text/plain": [
       "0L"
      ]
     },
     "execution_count": 3,
     "metadata": {},
     "output_type": "execute_result"
    }
   ],
   "source": [
    "ROOT.gROOT.ProcessLine(\".x Model2.C( \\\"MC.root\\\",0 )\")"
   ]
  },
  {
   "cell_type": "markdown",
   "metadata": {},
   "source": [
    "Draw some plots with the generated signal + background data\n",
    "\n",
    "Open the file"
   ]
  },
  {
   "cell_type": "code",
   "execution_count": 4,
   "metadata": {},
   "outputs": [
    {
     "name": "stdout",
     "output_type": "stream",
     "text": [
      "TFile: name=Data.root, title=, option=READ\n",
      "TFile**\t\tData.root\t\n",
      " TFile*\t\tData.root\t\n",
      "  KEY: TTree\tMyModel;1\tMyModel\n"
     ]
    }
   ],
   "source": [
    "rfile = ROOT.TFile.Open(\"Data.root\")\n",
    "rfile.Print()\n",
    "rfile.ls()"
   ]
  },
  {
   "cell_type": "markdown",
   "metadata": {},
   "source": [
    "Get the TTree"
   ]
  },
  {
   "cell_type": "code",
   "execution_count": 5,
   "metadata": {},
   "outputs": [
    {
     "name": "stdout",
     "output_type": "stream",
     "text": [
      "******************************************************************************\n",
      "*Tree    :MyModel   : MyModel                                                *\n",
      "*Entries :   100000 : Total =         6823771 bytes  File  Size =    4363383 *\n",
      "*        :          : Tree compression factor =   1.56                       *\n",
      "******************************************************************************\n",
      "*Br    0 :Eg        : Eg/D                                                   *\n",
      "*Entries :   100000 : Total  Size=     802693 bytes  File Size  =     549172 *\n",
      "*Baskets :       26 : Basket Size=      32000 bytes  Compression=   1.46     *\n",
      "*............................................................................*\n",
      "*Br    1 :Mmiss     : Mmiss/D                                                *\n",
      "*Entries :   100000 : Total  Size=     802783 bytes  File Size  =     760792 *\n",
      "*Baskets :       26 : Basket Size=      32000 bytes  Compression=   1.05     *\n",
      "*............................................................................*\n",
      "*Br    2 :M1        : M1/D                                                   *\n",
      "*Entries :   100000 : Total  Size=     802693 bytes  File Size  =     766854 *\n",
      "*Baskets :       26 : Basket Size=      32000 bytes  Compression=   1.05     *\n",
      "*............................................................................*\n",
      "*Br    3 :Phi       : Phi/D                                                  *\n",
      "*Entries :   100000 : Total  Size=     802723 bytes  File Size  =     712176 *\n",
      "*Baskets :       26 : Basket Size=      32000 bytes  Compression=   1.13     *\n",
      "*............................................................................*\n",
      "*Br    4 :M2        : M2/D                                                   *\n",
      "*Entries :   100000 : Total  Size=     802693 bytes  File Size  =     764811 *\n",
      "*Baskets :       26 : Basket Size=      32000 bytes  Compression=   1.05     *\n",
      "*............................................................................*\n",
      "*Br    5 :fgID      : fgID/D                                                 *\n",
      "*Entries :   100000 : Total  Size=     802753 bytes  File Size  =     157007 *\n",
      "*Baskets :       26 : Basket Size=      32000 bytes  Compression=   5.11     *\n",
      "*............................................................................*\n",
      "*Br    6 :Sig       : Sig/D                                                  *\n",
      "*Entries :   100000 : Total  Size=     802723 bytes  File Size  =      57938 *\n",
      "*Baskets :       26 : Basket Size=      32000 bytes  Compression=  13.84     *\n",
      "*............................................................................*\n",
      "*Br    7 :PolState  : PolState/I                                             *\n",
      "*Entries :   100000 : Total  Size=     401591 bytes  File Size  =      43428 *\n",
      "*Baskets :       13 : Basket Size=      32000 bytes  Compression=   9.23     *\n",
      "*............................................................................*\n",
      "*Br    8 :Pol       : Pol/D                                                  *\n",
      "*Entries :   100000 : Total  Size=     802723 bytes  File Size  =     548676 *\n",
      "*Baskets :       26 : Basket Size=      32000 bytes  Compression=   1.46     *\n",
      "*............................................................................*\n"
     ]
    }
   ],
   "source": [
    "tree = rfile.Get(\"MyModel\")\n",
    "tree.Print()"
   ]
  },
  {
   "cell_type": "markdown",
   "metadata": {},
   "source": [
    "Make a TCanvas with 4 pads for drawing on"
   ]
  },
  {
   "cell_type": "code",
   "execution_count": 6,
   "metadata": {},
   "outputs": [],
   "source": [
    "from ROOT import TCanvas, TPad\n",
    "canvas = TCanvas(\"genPlots\",\"genPlots\")\n",
    "canvas.Divide(2,2);"
   ]
  },
  {
   "cell_type": "markdown",
   "metadata": {},
   "source": [
    "Now draw the generated variables"
   ]
  },
  {
   "cell_type": "code",
   "execution_count": 7,
   "metadata": {},
   "outputs": [
    {
     "data": {
      "image/png": "[encoded data removed]",
      "text/plain": [
       "<IPython.core.display.Image object>"
      ]
     },
     "metadata": {},
     "output_type": "display_data"
    }
   ],
   "source": [
    "canvas.cd(1)\n",
    "tree.Draw(\"Mmiss>>hmiss(100,0,10)\")\n",
    "canvas.cd(2)\n",
    "tree.Draw(\"Phi>>hPhi(100,-180,180)\")\n",
    "canvas.cd(3)\n",
    "tree.Draw(\"M1>>hm1(100,0,10)\")\n",
    "canvas.cd(4)\n",
    "tree.Draw(\"Eg>>hEg(100,3,4)\")\n",
    "canvas.Draw()"
   ]
  },
  {
   "cell_type": "code",
   "execution_count": 8,
   "metadata": {},
   "outputs": [],
   "source": [
    "%edit Model2.C"
   ]
  },
  {
   "cell_type": "code",
   "execution_count": null,
   "metadata": {},
   "outputs": [],
   "source": []
  },
  {
   "cell_type": "code",
   "execution_count": null,
   "metadata": {},
   "outputs": [],
   "source": []
  }
 ],
 "metadata": {
  "kernelspec": {
   "display_name": "Python 3",
   "language": "python",
   "name": "python3"
  },
  "language_info": {
   "codemirror_mode": {
    "name": "ipython",
    "version": 2
   },
   "file_extension": ".py",
   "mimetype": "text/x-python",
   "name": "python",
   "nbconvert_exporter": "python",
   "pygments_lexer": "ipython2",
   "version": "2.7.15+"
  }
 },
 "nbformat": 4,
 "nbformat_minor": 2
}
