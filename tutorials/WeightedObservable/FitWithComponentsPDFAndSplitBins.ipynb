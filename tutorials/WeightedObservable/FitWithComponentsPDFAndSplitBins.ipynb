{
 "cells": [
  {
   "cell_type": "markdown",
   "metadata": {},
   "source": [
    "# Fit the sinusoidal amplitudes using the RooComponentsPDF class\n",
    "\n",
    "Here we use the RooComponentsPDF class to provide fast Simulated normalisation integration.\n",
    "First load the fit classes."
   ]
  },
  {
   "cell_type": "code",
   "execution_count": null,
   "metadata": {},
   "outputs": [],
   "source": [
    "import ROOT\n",
    "ROOT.gROOT.ProcessLine(\".x $BRUFIT/macros/LoadBru.C\")\n",
    "#%jsroot"
   ]
  },
  {
   "cell_type": "markdown",
   "metadata": {},
   "source": [
    "Use an instance of the FitManager class to organise the fit and give it an ouput directory."
   ]
  },
  {
   "cell_type": "code",
   "execution_count": null,
   "metadata": {},
   "outputs": [],
   "source": [
    "fm = ROOT.FitManager()\n",
    "fm.SetUp().SetOutDir(\"outObs2/\");"
   ]
  },
  {
   "cell_type": "markdown",
   "metadata": {},
   "source": [
    "Now load the experimentally measured variables (or observables). I must use the name of the variables in the tree.\n",
    "\n",
    "Note the slighlty different notation for the Category PolState. If any events had a PolState of 0 for example, then they would not be included in the fit."
   ]
  },
  {
   "cell_type": "code",
   "execution_count": null,
   "metadata": {},
   "outputs": [],
   "source": [
    "fm.SetUp().LoadVariable(\"Phi[-180,180]\"); \n",
    "fm.SetUp().LoadVariable(\"Pol[0,1]\"); \n",
    "fm.SetUp().LoadCategory(\"PolState[Polp=1,Pol0=0,Polm=-1]\");"
   ]
  },
  {
   "cell_type": "markdown",
   "metadata": {},
   "source": [
    "If I want to use any other variable, or example to apply a cut, I must load it as an AuxVar. The limits given will be applied to the datset. Here we will not apply it, but it is left commented out to show what you could do."
   ]
  },
  {
   "cell_type": "code",
   "execution_count": null,
   "metadata": {},
   "outputs": [],
   "source": [
    "#fm.SetUp().LoadAuxVar(\"M1[0,10]\"); //Load Aux Var, limits used as cut \n",
    "#fm.SetUp().AddCut(\"M1>2\"); //Additional cut based on vars or aux vars"
   ]
  },
  {
   "cell_type": "markdown",
   "metadata": {},
   "source": [
    "IMPORTANT here we set the event ID variable. Each event in your tree should have a unique id with which to synchronise with weights. This is useful as it allows us to break the data up, perform seperate fits then combine the weights afterwards. The weights are not written into the input tree, rather they are stored seperately (as HS::Weights) and combined when required. This allows you to use various sets of weights when performing fits or regenerate the weights after some corrections etc."
   ]
  },
  {
   "cell_type": "code",
   "execution_count": null,
   "metadata": {},
   "outputs": [],
   "source": [
    "fm.SetUp().SetIDBranchName(\"fgID\");"
   ]
  },
  {
   "cell_type": "markdown",
   "metadata": {},
   "source": [
    "Create and load into the fit manager my PDF class. Phi, Pol and PolState all match the variables loaded above.\n",
    "\n",
    "Here we define the functional parts seperately although they could be done on the fly on the FactoryPDF"
   ]
  },
  {
   "cell_type": "code",
   "execution_count": null,
   "metadata": {},
   "outputs": [],
   "source": [
    "fm.SetUp().LoadFormula(\"SIN2=@PolState[]*@Pol[]*sin(2*(@Phi[])/57.29578)\");\n",
    "fm.SetUp().LoadFormula(\"COS2=@PolState[]*@Pol[]*cos(2*(@Phi[])/57.29578)\");"
   ]
  },
  {
   "cell_type": "markdown",
   "metadata": {},
   "source": [
    "Here we load the fit parameters on the fly in the factory PDF e.g. A[0,-1,1] initial value 0 and range between -1 and 1. If A appears multiple times I should only include the [0,-1,1] in the first instance and then just A from then on.\n",
    "\n",
    "WE could have Loaded them explicitly first. This may help reading in more complicate functions. e.g.\n",
    "\n",
    "    fm.SetUp().LoadParameter(\"A[0,-1,1]\");\n",
    "    \n",
    "Then just use A rather than A[0,-1,1] in FactoryPDF"
   ]
  },
  {
   "cell_type": "markdown",
   "metadata": {},
   "source": [
    "\n",
    "    1 + A*COS2 + B*SIN2 (first argument = the 1 )\n",
    "    \n",
    "Note : seperates different products = +\n",
    "     ; seperates different terms in the product = *\n",
    "     \n",
    "Note the 1 in \"SigAsym(1\" corresponds to the 1 + in the formula. This may also be set to 0 if the formula does not have a 1+ at the start."
   ]
  },
  {
   "cell_type": "code",
   "execution_count": null,
   "metadata": {},
   "outputs": [],
   "source": [
    "fm.SetUp().FactoryPDF(\"RooComponentsPDF::SigAsym(1,{Phi,Pol,PolState},=A[0,-1,1];COS2:B[0,-1,1];SIN2)\");\n",
    "fm.SetUp().LoadSpeciesPDF(\"SigAsym\",1);\n",
    "fm.SetUp().WS().Print(\"v\")"
   ]
  },
  {
   "cell_type": "markdown",
   "metadata": {},
   "source": [
    "Split the data into 4 Eg bins and perform 4 fits (in parallel with PROOF). At the end we will create Graphs of the fit parameters as a function of Eg."
   ]
  },
  {
   "cell_type": "code",
   "execution_count": null,
   "metadata": {},
   "outputs": [],
   "source": [
    " fm.Bins().LoadBinVar(\"Eg\",4,3,4);"
   ]
  },
  {
   "cell_type": "markdown",
   "metadata": {},
   "source": [
    "Now I load my data, here I will use both data to fit and MC data for the integral calculation. Note in the latter case the string \"SigAsym\" matches the name given to the PDF object above. In principal I could fit multiple PDFs and give them each different MC data.\n",
    "\n",
    "The strings are treename, filename and PDF name (simulation only)."
   ]
  },
  {
   "cell_type": "code",
   "execution_count": null,
   "metadata": {},
   "outputs": [],
   "source": [
    "fm.LoadData(\"MyModel\",\"Data.root\");\n",
    "fm.LoadSimulated(\"MyModel\",\"MC.root\",\"SigAsym\");"
   ]
  },
  {
   "cell_type": "markdown",
   "metadata": {},
   "source": [
    "Now I attach the weights from my sPlot fit. I want to use the signal weights which were given the name \"Signal\" in the sPlot notebook. \n",
    "\n",
    "Also there are two possible sets of weights from using a Gaussian or simulated PDF. You can switch between either here."
   ]
  },
  {
   "cell_type": "code",
   "execution_count": null,
   "metadata": {},
   "outputs": [],
   "source": [
    "fm.Data().LoadWeights(\"Signal\",\"outSplot/Tweights.root\");\n",
    "#fm.Data().LoadWeights(\"Signal\",\"outSplotSim/Tweights.root\"); #use weights from simulated PDF"
   ]
  },
  {
   "cell_type": "markdown",
   "metadata": {},
   "source": [
    "I can provide additional options to speed up the fit. Here I use 3 CPUs which parallelises the likelihood calculation.\n",
    "\n",
    "And I set optimise to 1 which calculates and caches formulas in the first interation, then uses the cached values in future iterations of the likelihood calculation. This is well matched to the ComponentsPDF ."
   ]
  },
  {
   "cell_type": "code",
   "execution_count": null,
   "metadata": {},
   "outputs": [],
   "source": [
    "fm.SetUp().AddFitOption(ROOT.RooFit.NumCPU(3));\n",
    "fm.SetUp().AddFitOption(ROOT.RooFit.Optimize(1));"
   ]
  },
  {
   "cell_type": "markdown",
   "metadata": {},
   "source": [
    "Now run the fits. I use the Process classes which allow me to choose between running directly here on a single core or multicore via PROOF-lite. It doesn't make sense to run with PROOF unless multiple splits have been defined with LoadBinVar or you are using Bootstrap, in which case you should relate the number of cores requested to the number of splits or bootstraps.\n",
    "\n",
    "** For me the programme hangs at this cell once the fit is done and the plots created unless I use SetRedirectOutput which sends the text to a log file in the OutDir"
   ]
  },
  {
   "cell_type": "code",
   "execution_count": null,
   "metadata": {
    "scrolled": false
   },
   "outputs": [],
   "source": [
    "ROOT.Proof.Go(fm,4)"
   ]
  },
  {
   "cell_type": "markdown",
   "metadata": {},
   "source": [
    "All plots and fit parameters will be saved into the output directory Results.root file. If LoadBinVar splits were applied then they will be in directories related to the bin name.\n",
    "\n",
    "If the plot does not appear you can try removing the %jsroot in the first cell. Unfortunately this will mean the histograms will not be interactive."
   ]
  },
  {
   "cell_type": "markdown",
   "metadata": {},
   "source": [
    "### Graphing the fit results\n",
    "\n",
    "Here we use the GraphParameters macro to make TGraphErrors of the parameter fit results. We need to supply the directory name and the binned variable we want to plot against."
   ]
  },
  {
   "cell_type": "code",
   "execution_count": null,
   "metadata": {},
   "outputs": [],
   "source": [
    "ROOT.gROOT.ProcessLine(\".L GraphParameters.C+\")\n",
    "ROOT.GraphParameters(fm.SetUp().GetOutDir(),\"Eg\")"
   ]
  },
  {
   "cell_type": "code",
   "execution_count": null,
   "metadata": {},
   "outputs": [],
   "source": [
    "graphFile=ROOT.TFile.Open(fm.SetUp().GetOutDir().Data()+\"ParGraphsEg.root\")\n",
    "canvas=ROOT.TCanvas()\n",
    "canvas.Divide(1,3)\n",
    "canvas.cd(1)\n",
    "graphFile.Get(\"A\").Draw(\"ape\")\n",
    "canvas.cd(2)\n",
    "graphFile.Get(\"B\").Draw(\"ape\")\n",
    "canvas.cd(3)\n",
    "graphFile.Get(\"Yld_SigAsym\").Draw(\"ape\")\n",
    "canvas.Draw()"
   ]
  },
  {
   "cell_type": "code",
   "execution_count": null,
   "metadata": {},
   "outputs": [],
   "source": []
  }
 ],
 "metadata": {
  "kernelspec": {
   "display_name": "Python 3",
   "language": "python",
   "name": "python3"
  },
  "language_info": {
   "codemirror_mode": {
    "name": "ipython",
    "version": 2
   },
   "file_extension": ".py",
   "mimetype": "text/x-python",
   "name": "python",
   "nbconvert_exporter": "python",
   "pygments_lexer": "ipython2",
   "version": "2.7.15+"
  }
 },
 "nbformat": 4,
 "nbformat_minor": 2
}
