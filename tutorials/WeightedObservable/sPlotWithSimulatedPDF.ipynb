{
 "cells": [
  {
   "cell_type": "markdown",
   "metadata": {},
   "source": [
    "# sPlot with simple Gaussian and polynomial PDFs\n",
    "\n",
    "Fit a pseudo data missing mass distribution to produce sWeights then use them to plot Signal weighted distribution for other variables.\n",
    "\n",
    "Note the weights are stored in a Weights object which then can be loaded into other fits. [Weights.h](https://github.com/dglazier/brufit/blob/master/core/Weights.h)\n",
    "\n",
    "It is also possible to merge with the data tree in ROOT (similarily in pyROOT) :\n",
    "\n",
    "    Weights wgts;\n",
    "    wgts.LoadSaved(\"filename.root\",\"HSsWeights\");\n",
    "    wgts.AddToTree(tree);"
   ]
  },
  {
   "cell_type": "markdown",
   "metadata": {},
   "source": [
    "Load brufit using ROOT python bindings and initialise jsroot for drawing histograms."
   ]
  },
  {
   "cell_type": "code",
   "execution_count": 1,
   "metadata": {},
   "outputs": [
    {
     "name": "stderr",
     "output_type": "stream",
     "text": [
      "UsageError: Line magic function `%jsroot` not found.\n"
     ]
    }
   ],
   "source": [
    "import ROOT\n",
    "ROOT.gROOT.ProcessLine(\".x $BRUFIT/macros/LoadBru.C\")\n",
    "%jsroot on"
   ]
  },
  {
   "cell_type": "markdown",
   "metadata": {},
   "source": [
    "First you will need to generate some data. This is done with a ROOT macro generating random numbers from TF1 functions. It can be executed from the following notebook GenerateData\n",
    "Link to [Generate Data](GenerateData.ipynb)"
   ]
  },
  {
   "cell_type": "markdown",
   "metadata": {},
   "source": [
    "Create the sPlot fit manager and set the ouput directory for fit results, plots and weights"
   ]
  },
  {
   "cell_type": "code",
   "execution_count": null,
   "metadata": {},
   "outputs": [],
   "source": [
    "splot = ROOT.sPlot()\n",
    "splot.SetUp().SetOutDir(\"outSplotSim\")"
   ]
  },
  {
   "cell_type": "markdown",
   "metadata": {},
   "source": [
    "Define the fit variable as Mmiss which is the name of a branch in the tree and set the fit range to 0-10"
   ]
  },
  {
   "cell_type": "code",
   "execution_count": null,
   "metadata": {},
   "outputs": [],
   "source": [
    "splot.SetUp().LoadVariable(\"Mmiss[0,10]\");"
   ]
  },
  {
   "cell_type": "markdown",
   "metadata": {},
   "source": [
    "IMPORTANT here we set the event ID variable. Each event in your tree should have a unique id with which to synchronise with weights.\n",
    "    This is useful as it allows us to break the data up, perform seperate fits then combine the weights afterwards.\n",
    "    The weights are not written into the input tree, rather they are stored seperately (as Weights) and combined when required. This allows you to use various sets of weights when performing fits or regenerate the weights after some corrections etc."
   ]
  },
  {
   "cell_type": "code",
   "execution_count": null,
   "metadata": {},
   "outputs": [],
   "source": [
    "splot.SetUp().SetIDBranchName(\"fgID\")"
   ]
  },
  {
   "cell_type": "markdown",
   "metadata": {},
   "source": [
    "### Create a signal PDF\n",
    "\n",
    "We use the PDF class RooHsEventsHistPDF to make a missing mass shape for the signal. This essentially fills a missing mass histogram with simulated events and uses this as a PDF shape. As simulations are not always a perfect match to the data it allows some flexibilty in the shape to account for any systematic differences in calibrations etc. The parameters  :\n",
    "\n",
    "      alpha = convolution with Gaussian of width alpha\n",
    "      off   = offset on the Mmiss axis (alignment)\n",
    "      scale = scaling of the Mmiss axis (broader scale <1; narrower scale >1)\n",
    "      \n",
    "Note these parameters are constrained to be as close as possible to the actual simulated data. This is done by adding Gaussian constraint terms to the likelihood for each parameter. The widths and means are encoded in the parameter ranges : means = inital value given for alpha, off and scale; widths = range/5 for alpha; range/10 for off and scale.\n",
    "\n",
    "The name of the PDF we give is Signal (it does not have to be it could have been anything) and this is used to attach the simulated data file and is used to identify the output signal sWeights species. \"Mmiss\" is required to tells it the fit variable; alpha[0,0,20] creates a new fit parameter alpha (starting at 0 with range 0-20 ), similarily for off and scale (see note above on Gaussian constraints)\n",
    "\n",
    "The LoadSpecies Line adds the PDF Signal to the Extended Maximum Likelihood fit and creates a corresponding yield parameter Yld_Signal which will give the number of signal events in the data after the fit.\n",
    "Note, I did not have to directly load this PDF I could have created more PDFs and combined them to make a more complicated PDF shape first."
   ]
  },
  {
   "cell_type": "code",
   "execution_count": null,
   "metadata": {},
   "outputs": [],
   "source": [
    "splot.SetUp().FactoryPDF(\"RooHSEventsHistPDF::Signal(Mmiss,alpha[0,0,20],off[0,-2,2],scale[1,0.8,1.2])\");\n",
    "splot.SetUp().LoadSpeciesPDF(\"Signal\")"
   ]
  },
  {
   "cell_type": "markdown",
   "metadata": {},
   "source": [
    "### Create a background PDF\n",
    "\n",
    "Here we just use a quadratic Chebychev polynomial to describe a smooth background. You can add extra a2,a3,etc. to increase the degree of the polynomial"
   ]
  },
  {
   "cell_type": "code",
   "execution_count": null,
   "metadata": {},
   "outputs": [],
   "source": [
    "splot.SetUp().FactoryPDF(\"Chebychev::BG(Mmiss,{a0[-0.1,-1,1],a1[0.1,-0.5,0.5]})\");\n",
    "splot.SetUp().LoadSpeciesPDF(\"BG\",1)"
   ]
  },
  {
   "cell_type": "markdown",
   "metadata": {},
   "source": [
    "Load the data giving the tree name then the file name.\n",
    "In addition I must load the simulated data which should be a tree with the same format as the actual data. I use the name \"Signal\" to connect this to the PDF of the same name."
   ]
  },
  {
   "cell_type": "code",
   "execution_count": null,
   "metadata": {},
   "outputs": [],
   "source": [
    "splot.LoadData(\"MyModel\",\"Data.root\")\n",
    "splot.LoadSimulated(\"MyModel\",\"MC.root\", \"Signal\");"
   ]
  },
  {
   "cell_type": "markdown",
   "metadata": {},
   "source": [
    "Run the fit locally, this will also create the sWeights for each event. When it is finished it will display a plot of the signal and background fit to Mmiss and also show the residual and pull plots between the fit and data\n",
    "\n",
    "There are different options for running. To just run standard use Here::Go and the fits will just be performed within this interactive session, sequentially in the case of bins.\n",
    "\n",
    "Here::One(&RF,i) will run one singal fit from the different bins produce with LoadBinVars, where i gives the index of the bin\n",
    "\n",
    "Use Proof::Go(&RF,N) and the fits will be run in parallel via PROOF with each split/bin running on a different core, where N = number of cores to use."
   ]
  },
  {
   "cell_type": "code",
   "execution_count": null,
   "metadata": {
    "scrolled": false
   },
   "outputs": [],
   "source": [
    "ROOT.Here.Go(splot)"
   ]
  },
  {
   "cell_type": "markdown",
   "metadata": {},
   "source": [
    "Now we will draw the resulting weighted phi distributions for the different polarisation states. First create canvases for drawing on."
   ]
  },
  {
   "cell_type": "code",
   "execution_count": null,
   "metadata": {},
   "outputs": [],
   "source": [
    "from ROOT import TCanvas\n",
    "canvas = TCanvas(\"WeightedPlots\",\"WeightedPlots\")"
   ]
  },
  {
   "cell_type": "markdown",
   "metadata": {},
   "source": [
    "And draw the weighted distributions using sPlot::DrawWeighted. The first string takes standard ROOT TTree::Draw arguments. The second is the name of the PDF corresponding to the species you want to draw."
   ]
  },
  {
   "cell_type": "code",
   "execution_count": null,
   "metadata": {},
   "outputs": [],
   "source": [
    "hPhi=ROOT.TH1F(\"hPhi\",\"hPhi\",100,-180,180);\n",
    "splot.DrawWeighted(\"Phi>>hPhi\",\"Signal\");\n",
    "splot.DrawWeighted(\"Phi\",\"Signal\",\"PolState==-1\",\"same\");\n",
    "splot.DrawWeighted(\"Phi\",\"Signal\",\"PolState==1\",\"same\");\n",
    "hPhi.SetMinimum(0)\n",
    "canvas.Draw()"
   ]
  },
  {
   "cell_type": "markdown",
   "metadata": {},
   "source": [
    "If we want to save the weighted tree with all branches inclduing weights you need to use the following line"
   ]
  },
  {
   "cell_type": "code",
   "execution_count": null,
   "metadata": {},
   "outputs": [],
   "source": [
    "splot.DeleteWeightedTree()"
   ]
  },
  {
   "cell_type": "code",
   "execution_count": null,
   "metadata": {},
   "outputs": [],
   "source": []
  },
  {
   "cell_type": "code",
   "execution_count": null,
   "metadata": {},
   "outputs": [],
   "source": []
  }
 ],
 "metadata": {
  "kernelspec": {
   "display_name": "Python 3",
   "language": "python",
   "name": "python3"
  },
  "language_info": {
   "codemirror_mode": {
    "name": "ipython",
    "version": 2
   },
   "file_extension": ".py",
   "mimetype": "text/x-python",
   "name": "python",
   "nbconvert_exporter": "python",
   "pygments_lexer": "ipython2",
   "version": "2.7.17"
  }
 },
 "nbformat": 4,
 "nbformat_minor": 2
}
